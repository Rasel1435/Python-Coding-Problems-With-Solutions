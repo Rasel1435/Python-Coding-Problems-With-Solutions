{
 "cells": [
  {
   "cell_type": "markdown",
   "metadata": {},
   "source": [
    "# Decimal to Binary"
   ]
  },
  {
   "cell_type": "markdown",
   "metadata": {},
   "source": [
    "### The Problem"
   ]
  },
  {
   "cell_type": "markdown",
   "metadata": {},
   "source": [
    "Convert a decimal number to binary number."
   ]
  },
  {
   "cell_type": "markdown",
   "metadata": {},
   "source": [
    "### Decimal vs Binary"
   ]
  },
  {
   "cell_type": "markdown",
   "metadata": {},
   "source": [
    "The numbers that we use every day is called decimal number. A decimal number could have any of the 10 digits (0, 1, 2, 3, 4,5 6, 7, 8, 9).\n",
    "\n",
    "Hence, 232, 789, 176, 511, etc. are decimal numbers.\n",
    "\n",
    "Sometimes, decimal numbers are called 10-based numbers. Because you could have 10 different digits in your number.\n",
    "\n",
    "On the other hand, binary numbers use two digits (0 and 1). The word binary means two. And binary numbers use two digits. Just one and 0. Buy using these two digits binary number system can represent any numbers.\n",
    "\n",
    "Some example of binary numbers re 10001, 11101, 100001, etc."
   ]
  },
  {
   "cell_type": "markdown",
   "metadata": {},
   "source": [
    "#### To convert a decimal number to a binary number, you have to keep dividing the number by 2."
   ]
  },
  {
   "cell_type": "markdown",
   "metadata": {},
   "source": [
    "## Solution"
   ]
  },
  {
   "cell_type": "code",
   "execution_count": 3,
   "metadata": {},
   "outputs": [
    {
     "name": "stdout",
     "output_type": "stream",
     "text": [
      "Decimal Number is: 789\n",
      "Your binary is: 1100010101\n"
     ]
    }
   ],
   "source": [
    "def dec_to_binary(n):\n",
    "\tbits = []\n",
    "\n",
    "\twhile n > 0:\n",
    "\t\tbits.append(n % 2)\n",
    "\t\tn = n // 2\n",
    "\tbits.reverse()\n",
    "\n",
    "\tbinary = ''\n",
    "\tfor bit in bits:\n",
    "\t\tbinary += str(bit)\n",
    "\treturn binary\n",
    "\n",
    "\n",
    "num = int(input(\"Your decimal number: \"))\n",
    "print(f\"Decimal Number is: {num}\")\n",
    "binary = dec_to_binary(num)\n",
    "print(\"Your binary is:\", binary)"
   ]
  }
 ],
 "metadata": {
  "kernelspec": {
   "display_name": "Python 3.10.5 64-bit",
   "language": "python",
   "name": "python3"
  },
  "language_info": {
   "codemirror_mode": {
    "name": "ipython",
    "version": 3
   },
   "file_extension": ".py",
   "mimetype": "text/x-python",
   "name": "python",
   "nbconvert_exporter": "python",
   "pygments_lexer": "ipython3",
   "version": "3.10.5"
  },
  "orig_nbformat": 4,
  "vscode": {
   "interpreter": {
    "hash": "afb734500600fd355917ca529030176ea0ca205570884b88f2f6f7d791fd3fbe"
   }
  }
 },
 "nbformat": 4,
 "nbformat_minor": 2
}
