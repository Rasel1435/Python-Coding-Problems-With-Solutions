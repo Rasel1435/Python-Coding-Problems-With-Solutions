{
 "cells": [
  {
   "cell_type": "markdown",
   "metadata": {},
   "source": [
    "# Simple Digital Clock"
   ]
  },
  {
   "cell_type": "markdown",
   "metadata": {},
   "source": [
    "### The Task"
   ]
  },
  {
   "cell_type": "markdown",
   "metadata": {},
   "source": [
    "Create a simple clock."
   ]
  },
  {
   "cell_type": "markdown",
   "metadata": {},
   "source": [
    "### Solution Strategy"
   ]
  },
  {
   "cell_type": "markdown",
   "metadata": {},
   "source": [
    "Two things would be new for you here.\n",
    "\n",
    "Let’s talk about the global keyword first.\n",
    "\n",
    "Inside a function, you can use two types of variables: any variable declared inside the function or the parameter.\n",
    "\n",
    "If you want to set or update the value of any variable declared outside of the function, you can either pass it as a parameter. In that case, it will not update the value of the variable outside of the function. In the code below, you will have the value of x remained as 5."
   ]
  },
  {
   "cell_type": "code",
   "execution_count": 2,
   "metadata": {},
   "outputs": [
    {
     "name": "stdout",
     "output_type": "stream",
     "text": [
      "use global keyword\n",
      "10\n",
      "Updated value of x: 5\n"
     ]
    }
   ],
   "source": [
    "x = 5\n",
    "\n",
    "\n",
    "def double_global_x(x):\n",
    " x = 2*x\n",
    " return x\n",
    "\n",
    "\n",
    "print('use global keyword')\n",
    "result = double_global_x(x)\n",
    "print(result)\n",
    "print('Updated value of x:', x)"
   ]
  },
  {
   "cell_type": "markdown",
   "metadata": {},
   "source": [
    "If you want to change the value of the variable inside a function, you have to use the global keyword. Just add a new line and put global and then the name of the variable. In that case, python will know that it will read and set value from the variable outside of the function. For example, in the code below the value of the x will become 10."
   ]
  },
  {
   "cell_type": "code",
   "execution_count": 3,
   "metadata": {},
   "outputs": [
    {
     "name": "stdout",
     "output_type": "stream",
     "text": [
      "use global keyword\n",
      "10\n",
      "Update values of x: 10\n"
     ]
    }
   ],
   "source": [
    "x = 5\n",
    "\n",
    "def double_global_x():\n",
    "    global x\n",
    "    x = 2*x\n",
    "    return x\n",
    "\n",
    "print(\"use global keyword\")\n",
    "double_global_x()\n",
    "print(result)\n",
    "print(f\"Update values of x: {x}\")"
   ]
  },
  {
   "cell_type": "markdown",
   "metadata": {},
   "source": [
    "## Time module"
   ]
  },
  {
   "cell_type": "markdown",
   "metadata": {},
   "source": [
    "There is a built-in module in python named time. It has a lot of time-related functionalities. One function on the time module is called sleep. The sleep takes a parameter named sec.\n",
    "\n",
    "You can pause your function wait for a certain number of sec and then execute it.\n",
    "\n",
    "For example, we can run an infinite loop and after every second you can print Tick"
   ]
  },
  {
   "cell_type": "code",
   "execution_count": 14,
   "metadata": {},
   "outputs": [
    {
     "name": "stdout",
     "output_type": "stream",
     "text": [
      "Tick\n"
     ]
    }
   ],
   "source": [
    "import time\n",
    "\n",
    "while True:\n",
    " time.sleep(1)\n",
    " print('Tick')\n",
    " break #Loop will be contiuned\n",
    "\n"
   ]
  },
  {
   "cell_type": "markdown",
   "metadata": {},
   "source": [
    "## The solution"
   ]
  },
  {
   "cell_type": "markdown",
   "metadata": {},
   "source": [
    "This code is submitted by: Steine Chaos / Malte Lupin"
   ]
  },
  {
   "cell_type": "code",
   "execution_count": 17,
   "metadata": {},
   "outputs": [
    {
     "name": "stdout",
     "output_type": "stream",
     "text": [
      "Simple clock time by Rasel: \n",
      "\n",
      "\n",
      "\n",
      "1 : 24 : 46\n"
     ]
    }
   ],
   "source": [
    "import time\n",
    "\n",
    "print('Simple clock time by Rasel: \\n')\n",
    "\n",
    "hour = int(input(\"type in the current hour: \"))\n",
    "minute = int(input(\"type in the current minute: \"))\n",
    "second = int(input(\"type in the current second: \"))\n",
    "\n",
    "def display():\n",
    "    print(f\"{hour} : {minute} : {second}\")\n",
    "\n",
    "def add():\n",
    "    global hour\n",
    "    global minute\n",
    "    global second\n",
    "\n",
    "    second = second + 1\n",
    "    if second == 60:\n",
    "        minute = minute + 1\n",
    "        second = 0\n",
    "\n",
    "    if minute == 60:\n",
    "        hour = hour + 1\n",
    "        minute = 0\n",
    "\n",
    "    if hour == 24:\n",
    "        hour = 0\n",
    "\n",
    "print(\"\\n\")\n",
    "\n",
    "while True:\n",
    "    time.sleep(1)\n",
    "    add()\n",
    "    display()\n",
    "    break\n"
   ]
  },
  {
   "cell_type": "code",
   "execution_count": 3,
   "metadata": {},
   "outputs": [
    {
     "data": {
      "text/plain": [
       "(22, 8, 2022)"
      ]
     },
     "execution_count": 3,
     "metadata": {},
     "output_type": "execute_result"
    }
   ],
   "source": [
    "#Date\n",
    "import os\n",
    "import datetime\n",
    "today = datetime.date.today()\n",
    "today.day, today.month, today.year"
   ]
  },
  {
   "cell_type": "code",
   "execution_count": 9,
   "metadata": {},
   "outputs": [
    {
     "data": {
      "text/plain": [
       "'22/August/2022'"
      ]
     },
     "execution_count": 9,
     "metadata": {},
     "output_type": "execute_result"
    }
   ],
   "source": [
    "t = datetime.datetime.now()\n",
    "t.strftime(\"%d/%B/%Y\")"
   ]
  },
  {
   "cell_type": "code",
   "execution_count": 17,
   "metadata": {},
   "outputs": [
    {
     "data": {
      "text/plain": [
       "'01/55/54'"
      ]
     },
     "execution_count": 17,
     "metadata": {},
     "output_type": "execute_result"
    }
   ],
   "source": [
    "t = datetime.datetime.now()\n",
    "t.strftime(\"%I/%M/%S\")"
   ]
  }
 ],
 "metadata": {
  "kernelspec": {
   "display_name": "Python 3.10.5 64-bit",
   "language": "python",
   "name": "python3"
  },
  "language_info": {
   "codemirror_mode": {
    "name": "ipython",
    "version": 3
   },
   "file_extension": ".py",
   "mimetype": "text/x-python",
   "name": "python",
   "nbconvert_exporter": "python",
   "pygments_lexer": "ipython3",
   "version": "3.10.5"
  },
  "orig_nbformat": 4,
  "vscode": {
   "interpreter": {
    "hash": "afb734500600fd355917ca529030176ea0ca205570884b88f2f6f7d791fd3fbe"
   }
  }
 },
 "nbformat": 4,
 "nbformat_minor": 2
}
