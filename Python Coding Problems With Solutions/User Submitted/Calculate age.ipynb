{
 "cells": [
  {
   "cell_type": "markdown",
   "metadata": {},
   "source": [
    "# Calculate age"
   ]
  },
  {
   "cell_type": "markdown",
   "metadata": {},
   "source": [
    "## The Problem"
   ]
  },
  {
   "cell_type": "markdown",
   "metadata": {},
   "source": [
    "Take a birthday of a person and then calculate the age."
   ]
  },
  {
   "cell_type": "markdown",
   "metadata": {},
   "source": [
    "### Hints"
   ]
  },
  {
   "cell_type": "markdown",
   "metadata": {},
   "source": [
    "Take the user birthday. Use the same method that you used in the previous problem.\n",
    "\n",
    "Then, to calculate age, get the days and then divide the days by 365.\n",
    "\n",
    "(This is not the perfect way to calculate age...Feel free to find better solutions)"
   ]
  },
  {
   "cell_type": "markdown",
   "metadata": {},
   "source": [
    "## Solution"
   ]
  },
  {
   "cell_type": "code",
   "execution_count": 2,
   "metadata": {},
   "outputs": [
    {
     "name": "stdout",
     "output_type": "stream",
     "text": [
      "Your age:  27\n"
     ]
    }
   ],
   "source": [
    "from datetime import datetime\n",
    "import time\n",
    "\n",
    "\n",
    "def calculate_age(born):\n",
    "\ttoday = datetime.today()\n",
    "\tdays = (today-born).days\n",
    "\tage = days // 365\n",
    "\treturn age\n",
    "\n",
    "\n",
    "def get_user_birthday():\n",
    " date_str = input(\"Enter your birth date in DD/MM/YYYY: \")\n",
    " try:\n",
    "   birthday = datetime.strptime(date_str, \"%d/%m/%Y\")\n",
    " except TypeError:\n",
    "   birthday = datetime.datetime(*(time.strptime(date_str, \"%d/%m/%Y\")[0:6]))\n",
    " return birthday\n",
    "\n",
    "\n",
    "birthday = get_user_birthday()\n",
    "age = calculate_age(birthday)\n",
    "print(\"Your age: \", age)"
   ]
  }
 ],
 "metadata": {
  "kernelspec": {
   "display_name": "Python 3.10.5 64-bit",
   "language": "python",
   "name": "python3"
  },
  "language_info": {
   "codemirror_mode": {
    "name": "ipython",
    "version": 3
   },
   "file_extension": ".py",
   "mimetype": "text/x-python",
   "name": "python",
   "nbconvert_exporter": "python",
   "pygments_lexer": "ipython3",
   "version": "3.10.5"
  },
  "orig_nbformat": 4,
  "vscode": {
   "interpreter": {
    "hash": "afb734500600fd355917ca529030176ea0ca205570884b88f2f6f7d791fd3fbe"
   }
  }
 },
 "nbformat": 4,
 "nbformat_minor": 2
}
