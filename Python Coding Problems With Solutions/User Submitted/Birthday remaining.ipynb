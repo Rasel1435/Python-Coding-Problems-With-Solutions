{
 "cells": [
  {
   "cell_type": "markdown",
   "metadata": {},
   "source": [
    "# Birthday remaining"
   ]
  },
  {
   "cell_type": "markdown",
   "metadata": {},
   "source": [
    "## The problem"
   ]
  },
  {
   "cell_type": "markdown",
   "metadata": {},
   "source": [
    "Calculate how many days are remaining for the next birthday."
   ]
  },
  {
   "cell_type": "markdown",
   "metadata": {},
   "source": [
    "## Hints"
   ]
  },
  {
   "cell_type": "markdown",
   "metadata": {},
   "source": [
    "Let’s say, you want to display 5 random numbers. You can write the code like below:"
   ]
  },
  {
   "cell_type": "code",
   "execution_count": 1,
   "metadata": {},
   "outputs": [
    {
     "name": "stdout",
     "output_type": "stream",
     "text": [
      "4\n",
      "17\n",
      "25\n",
      "33\n",
      "40\n"
     ]
    }
   ],
   "source": [
    "import random\n",
    "print(random.randint(0,10))\n",
    "print(random.randint(10,20))\n",
    "print(random.randint(20,30))\n",
    "print(random.randint(30,40))\n",
    "print(random.randint(40,50))"
   ]
  },
  {
   "cell_type": "markdown",
   "metadata": {},
   "source": [
    "The problem is that, in every line, you have to type random.randint. As a programmer, you will be lazy. Hence, while import you can import the randint directly in your code. For that, you have to say, from random import randint. Like below"
   ]
  },
  {
   "cell_type": "code",
   "execution_count": 2,
   "metadata": {},
   "outputs": [
    {
     "name": "stdout",
     "output_type": "stream",
     "text": [
      "0\n",
      "20\n",
      "30\n",
      "37\n",
      "40\n"
     ]
    }
   ],
   "source": [
    "from random import randint\n",
    "print(randint(0,10))\n",
    "print(randint(10,20))\n",
    "print(randint(20,30))\n",
    "print(randint(30,40))\n",
    "print(randint(40,50))"
   ]
  },
  {
   "cell_type": "markdown",
   "metadata": {},
   "source": [
    "## Solution"
   ]
  },
  {
   "cell_type": "code",
   "execution_count": 3,
   "metadata": {},
   "outputs": [
    {
     "name": "stdout",
     "output_type": "stream",
     "text": [
      "Your birthday is coming in:  147  days\n"
     ]
    }
   ],
   "source": [
    "from datetime import datetime\n",
    "import time\n",
    "\n",
    "\n",
    "def get_user_birthday():\n",
    " date_str = input(\"Enter your birth date in DD/MM/YYYY: \")\n",
    " try:\n",
    "   birthday = datetime.strptime(date_str, \"%d/%m/%Y\")\n",
    " except TypeError:\n",
    "   birthday = datetime.datetime(*(time.strptime(date_str, \"%d/%m/%Y\")[0:6]))\n",
    " return birthday\n",
    "\n",
    "\n",
    "def days_remaining(birth_date):\n",
    "  now = datetime.now()\n",
    "  current_year = datetime(now.year, birth_date.month, birth_date.day)\n",
    "  days = (current_year - now).days\n",
    "  if days < 0:\n",
    "    next_year = datetime(now.year+1, birth_date.month, birth_date.day)\n",
    "    days = (next_year - now).days\n",
    "  return days\n",
    "\n",
    "\n",
    "birthday = get_user_birthday()\n",
    "next_birthday = days_remaining(birthday)\n",
    "print(\"Your birthday is coming in: \", next_birthday, \" days\")"
   ]
  }
 ],
 "metadata": {
  "kernelspec": {
   "display_name": "Python 3.10.5 64-bit",
   "language": "python",
   "name": "python3"
  },
  "language_info": {
   "codemirror_mode": {
    "name": "ipython",
    "version": 3
   },
   "file_extension": ".py",
   "mimetype": "text/x-python",
   "name": "python",
   "nbconvert_exporter": "python",
   "pygments_lexer": "ipython3",
   "version": "3.10.5"
  },
  "orig_nbformat": 4,
  "vscode": {
   "interpreter": {
    "hash": "afb734500600fd355917ca529030176ea0ca205570884b88f2f6f7d791fd3fbe"
   }
  }
 },
 "nbformat": 4,
 "nbformat_minor": 2
}
