{
 "cells": [
  {
   "cell_type": "markdown",
   "metadata": {},
   "source": [
    "# Check Prime & All Prime Numbers"
   ]
  },
  {
   "cell_type": "markdown",
   "metadata": {},
   "source": [
    "### the problem"
   ]
  },
  {
   "cell_type": "markdown",
   "metadata": {},
   "source": [
    "Ask the user to enter a number. Then find all the primes up to that number."
   ]
  },
  {
   "cell_type": "markdown",
   "metadata": {},
   "source": [
    "### The Solution"
   ]
  },
  {
   "cell_type": "code",
   "execution_count": 9,
   "metadata": {},
   "outputs": [
    {
     "ename": "TypeError",
     "evalue": "'str' object is not callable",
     "output_type": "error",
     "traceback": [
      "\u001b[1;31m---------------------------------------------------------------------------\u001b[0m",
      "\u001b[1;31mTypeError\u001b[0m                                 Traceback (most recent call last)",
      "\u001b[1;32md:\\HR Venture\\Git\\Python\\100 Plus Python Coding Problems With Solutions\\Prime number\\Check Prime.ipynb Cell 5\u001b[0m in \u001b[0;36m<cell line: 16>\u001b[1;34m()\u001b[0m\n\u001b[0;32m     <a href='vscode-notebook-cell:/d%3A/HR%20Venture/Git/Python/100%20Plus%20Python%20Coding%20Problems%20With%20Solutions/Prime%20number/Check%20Prime.ipynb#ch0000004?line=11'>12</a>\u001b[0m           primes\u001b[39m.\u001b[39mappend(n)\n\u001b[0;32m     <a href='vscode-notebook-cell:/d%3A/HR%20Venture/Git/Python/100%20Plus%20Python%20Coding%20Problems%20With%20Solutions/Prime%20number/Check%20Prime.ipynb#ch0000004?line=12'>13</a>\u001b[0m   \u001b[39mreturn\u001b[39;00m primes\n\u001b[1;32m---> <a href='vscode-notebook-cell:/d%3A/HR%20Venture/Git/Python/100%20Plus%20Python%20Coding%20Problems%20With%20Solutions/Prime%20number/Check%20Prime.ipynb#ch0000004?line=15'>16</a>\u001b[0m num \u001b[39m=\u001b[39m \u001b[39mstr\u001b[39m(\u001b[39minput\u001b[39;49m(\u001b[39m\"\u001b[39;49m\u001b[39mEnter upper limit: \u001b[39;49m\u001b[39m\"\u001b[39;49m))\n\u001b[0;32m     <a href='vscode-notebook-cell:/d%3A/HR%20Venture/Git/Python/100%20Plus%20Python%20Coding%20Problems%20With%20Solutions/Prime%20number/Check%20Prime.ipynb#ch0000004?line=16'>17</a>\u001b[0m primes \u001b[39m=\u001b[39m all_primes(num)\n\u001b[0;32m     <a href='vscode-notebook-cell:/d%3A/HR%20Venture/Git/Python/100%20Plus%20Python%20Coding%20Problems%20With%20Solutions/Prime%20number/Check%20Prime.ipynb#ch0000004?line=17'>18</a>\u001b[0m \u001b[39mprint\u001b[39m(primes)\n",
      "\u001b[1;31mTypeError\u001b[0m: 'str' object is not callable"
     ]
    }
   ],
   "source": [
    "def is_prime(num):\n",
    "  for i in range(2, num):\n",
    "      if (num % i) == 0:\n",
    "          return False\n",
    "  return True\n",
    "\n",
    "\n",
    "def all_primes(num):\n",
    "  primes = []\n",
    "  for n in range(2, num+1):\n",
    "      if is_prime(n) is True:\n",
    "          primes.append(n)\n",
    "  return primes\n",
    "\n",
    "\n",
    "num = str(input(\"Enter upper limit: \"))\n",
    "primes = all_primes(num)\n",
    "print(primes)\n"
   ]
  },
  {
   "cell_type": "code",
   "execution_count": 8,
   "metadata": {},
   "outputs": [
    {
     "ename": "TypeError",
     "evalue": "'str' object is not callable",
     "output_type": "error",
     "traceback": [
      "\u001b[1;31m---------------------------------------------------------------------------\u001b[0m",
      "\u001b[1;31mTypeError\u001b[0m                                 Traceback (most recent call last)",
      "\u001b[1;32md:\\HR Venture\\Git\\Python\\100 Plus Python Coding Problems With Solutions\\Prime number\\Check Prime.ipynb Cell 6\u001b[0m in \u001b[0;36m<cell line: 1>\u001b[1;34m()\u001b[0m\n\u001b[1;32m----> <a href='vscode-notebook-cell:/d%3A/HR%20Venture/Git/Python/100%20Plus%20Python%20Coding%20Problems%20With%20Solutions/Prime%20number/Check%20Prime.ipynb#ch0000005?line=0'>1</a>\u001b[0m inn \u001b[39m=\u001b[39m \u001b[39minput\u001b[39;49m(\u001b[39m\"\u001b[39;49m\u001b[39mEnter your input: \u001b[39;49m\u001b[39m\"\u001b[39;49m)\n\u001b[0;32m      <a href='vscode-notebook-cell:/d%3A/HR%20Venture/Git/Python/100%20Plus%20Python%20Coding%20Problems%20With%20Solutions/Prime%20number/Check%20Prime.ipynb#ch0000005?line=1'>2</a>\u001b[0m name \u001b[39m=\u001b[39m inn\u001b[39m.\u001b[39msplit()\n\u001b[0;32m      <a href='vscode-notebook-cell:/d%3A/HR%20Venture/Git/Python/100%20Plus%20Python%20Coding%20Problems%20With%20Solutions/Prime%20number/Check%20Prime.ipynb#ch0000005?line=2'>3</a>\u001b[0m \u001b[39m# num=input.split()[1]\u001b[39;00m\n",
      "\u001b[1;31mTypeError\u001b[0m: 'str' object is not callable"
     ]
    }
   ],
   "source": [
    "num = str(input(\"Enter upper limit: \"))\n",
    "name = inn.split()\n",
    "# num=input.split()[1]\n",
    "result = (name)\n",
    "print(result)\n"
   ]
  }
 ],
 "metadata": {
  "kernelspec": {
   "display_name": "Python 3.10.5 64-bit",
   "language": "python",
   "name": "python3"
  },
  "language_info": {
   "codemirror_mode": {
    "name": "ipython",
    "version": 3
   },
   "file_extension": ".py",
   "mimetype": "text/x-python",
   "name": "python",
   "nbconvert_exporter": "python",
   "pygments_lexer": "ipython3",
   "version": "3.10.5"
  },
  "orig_nbformat": 4,
  "vscode": {
   "interpreter": {
    "hash": "afb734500600fd355917ca529030176ea0ca205570884b88f2f6f7d791fd3fbe"
   }
  }
 },
 "nbformat": 4,
 "nbformat_minor": 2
}
