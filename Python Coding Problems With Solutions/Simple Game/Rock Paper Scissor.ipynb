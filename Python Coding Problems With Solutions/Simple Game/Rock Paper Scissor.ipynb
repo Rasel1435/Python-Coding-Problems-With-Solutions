{
 "cells": [
  {
   "cell_type": "markdown",
   "metadata": {},
   "source": [
    "# Rock Paper Scissor"
   ]
  },
  {
   "cell_type": "markdown",
   "metadata": {},
   "source": [
    "### The Problem"
   ]
  },
  {
   "cell_type": "markdown",
   "metadata": {},
   "source": [
    "Build s simple Rock paper Scissor game."
   ]
  },
  {
   "cell_type": "markdown",
   "metadata": {},
   "source": [
    "### Hint"
   ]
  },
  {
   "cell_type": "markdown",
   "metadata": {},
   "source": [
    "You will write a lot of if-else. Think about it in a way that if the first player types rock, which one the second player should have picked to win the game. Otherwise, the second player will lose the game.\n",
    "\n",
    "If you are not familiar with Rock Paper Scissors, you might be living under a rock for a while.\n",
    "\n",
    "Don’t worry. You always have google. If you don’t know about the game, Google it."
   ]
  },
  {
   "cell_type": "markdown",
   "metadata": {},
   "source": [
    "## Solution"
   ]
  },
  {
   "cell_type": "code",
   "execution_count": 12,
   "metadata": {},
   "outputs": [
    {
     "name": "stdout",
     "output_type": "stream",
     "text": [
      "First Player Select: scissors\n",
      "Second Player Select: rock\n",
      "Second player win!\n"
     ]
    }
   ],
   "source": [
    "def get_winner(p1, p2):\n",
    "    if p1 == p2:\n",
    "        return (\"It's a tie!\")\n",
    "# First Step \n",
    "    elif p1 == \"rock\":\n",
    "        if p2 == \"scissors\":\n",
    "            return (\"First plyaer wins!\")\n",
    "        else:\n",
    "            return (\"Second player win!\")\n",
    "# Second Step\n",
    "    elif p1 == \"scissors\":\n",
    "        if p2 == \"paper\":\n",
    "            return (\"First plyaer wins!\")\n",
    "        else:\n",
    "            return (\"Second player win!\")\n",
    "# Third Step\n",
    "    elif p1 == \"paper\":\n",
    "        if p2 == \"rock\":\n",
    "            return (\"First plyaer wins!\")\n",
    "        else:\n",
    "            return (\"Second player win!\")\n",
    "    # Last step \n",
    "    else:\n",
    "        return \"Invalid input! your input should lowercase\"\n",
    "\n",
    "\n",
    "player1 = input(\"First player: rock, paper or scissors:\")\n",
    "print(f\"First Player Select: {player1}\")\n",
    "player2 = input(\"Second player: rock, paper or scissors:\")\n",
    "print(f\"Second Player Select: {player2}\")\n",
    "result = get_winner(player1, player2)\n",
    "print(result)"
   ]
  }
 ],
 "metadata": {
  "kernelspec": {
   "display_name": "Python 3.10.5 64-bit",
   "language": "python",
   "name": "python3"
  },
  "language_info": {
   "codemirror_mode": {
    "name": "ipython",
    "version": 3
   },
   "file_extension": ".py",
   "mimetype": "text/x-python",
   "name": "python",
   "nbconvert_exporter": "python",
   "pygments_lexer": "ipython3",
   "version": "3.10.5"
  },
  "orig_nbformat": 4,
  "vscode": {
   "interpreter": {
    "hash": "afb734500600fd355917ca529030176ea0ca205570884b88f2f6f7d791fd3fbe"
   }
  }
 },
 "nbformat": 4,
 "nbformat_minor": 2
}
