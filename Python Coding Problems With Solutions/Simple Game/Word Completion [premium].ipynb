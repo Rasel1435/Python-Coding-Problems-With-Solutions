{
 "cells": [
  {
   "cell_type": "markdown",
   "metadata": {},
   "source": [
    "# Word Completion [premium]"
   ]
  },
  {
   "cell_type": "markdown",
   "metadata": {},
   "source": [
    "### The Problem"
   ]
  },
  {
   "cell_type": "markdown",
   "metadata": {},
   "source": [
    "Build a simple word completion game.\n",
    "\n",
    "You will be given a partial word with hyphens. It’s a clue to an actual word. For example,\n",
    "\n",
    "-a-e\n",
    "\n",
    "Now you have to provide a word that matches with the exposed letters. If you provide any of these words- “game” or “fame” or “lame”, your answer will be correct.\n",
    "\n",
    "Because all these words have the letter “a” in the second position and the letter “e” in the fourth position.\n",
    "\n",
    "So, the idea is, your provided word has to have the same letter as the clue.\n",
    "\n",
    "S-2: hint You have to write a function that takes the clue word with hyphens and the provided answer.\n",
    "\n",
    "Then check whether the provided answer has the same letters in the same position as the clue word.\n",
    "\n",
    "And you can ignore the position with hyphens. Because the user can put any letter there."
   ]
  },
  {
   "cell_type": "markdown",
   "metadata": {},
   "source": [
    "## Solution"
   ]
  },
  {
   "cell_type": "code",
   "execution_count": 6,
   "metadata": {},
   "outputs": [
    {
     "name": "stdout",
     "output_type": "stream",
     "text": [
      "Your word clue: l-v-\n",
      "WOW!!! You win! Your Word is: love\n"
     ]
    }
   ],
   "source": [
    "import random\n",
    "\n",
    "\n",
    "def get_a_clue():\n",
    "   clues = ['-a-e', 'y-ll-w', 's-mm-r', 'wi-t-r', 's-n-y', 'l-v-', '-i-e', 'R-s-l']\n",
    "   position = random.randint(0, len(clues)-1)\n",
    "   clue = clues[position]\n",
    "   return clue\n",
    "\n",
    "\n",
    "def check_word_match(clue, guess):\n",
    "   if len(clue) != len(guess):\n",
    "       return False\n",
    "   for i in range(len(clue)):\n",
    "       if clue[i] != '-' and clue[i] != guess[i]:\n",
    "           return False\n",
    "   return True\n",
    "\n",
    "\n",
    "# start the game\n",
    "word_clue = get_a_clue()\n",
    "print('Your word clue:', word_clue)\n",
    "answer = input('What would be the word: ')\n",
    "\n",
    "is_matched = check_word_match(word_clue, answer)\n",
    "\n",
    "if is_matched is True:\n",
    "    print(f'WOW!!! You win! Your Word is: {answer}')\n",
    "else:\n",
    "    print(f'Opps! you missed it. Your Word is: {answer}')"
   ]
  }
 ],
 "metadata": {
  "kernelspec": {
   "display_name": "Python 3.10.5 64-bit",
   "language": "python",
   "name": "python3"
  },
  "language_info": {
   "codemirror_mode": {
    "name": "ipython",
    "version": 3
   },
   "file_extension": ".py",
   "mimetype": "text/x-python",
   "name": "python",
   "nbconvert_exporter": "python",
   "pygments_lexer": "ipython3",
   "version": "3.10.5"
  },
  "orig_nbformat": 4,
  "vscode": {
   "interpreter": {
    "hash": "afb734500600fd355917ca529030176ea0ca205570884b88f2f6f7d791fd3fbe"
   }
  }
 },
 "nbformat": 4,
 "nbformat_minor": 2
}
