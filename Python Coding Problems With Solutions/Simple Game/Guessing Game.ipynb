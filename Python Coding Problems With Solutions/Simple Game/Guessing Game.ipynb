{
 "cells": [
  {
   "cell_type": "markdown",
   "metadata": {},
   "source": [
    "# Guessing Game"
   ]
  },
  {
   "cell_type": "markdown",
   "metadata": {},
   "source": [
    "### The Problem"
   ]
  },
  {
   "cell_type": "markdown",
   "metadata": {},
   "source": [
    "Build a simple guessing game where it will continuously ask the user to enter a number between 1 and 10.\n",
    "\n",
    "If the user's guesses matched, the user will score 10 points, and display the score. If the users' guess doesn’t match display the generated number.\n",
    "\n",
    "Also, if the user enters “q” then stop the game."
   ]
  },
  {
   "cell_type": "markdown",
   "metadata": {},
   "source": [
    "#### Hints"
   ]
  },
  {
   "cell_type": "markdown",
   "metadata": {},
   "source": [
    "This type of situation, where you don’t know how many times a user will try to make the guess. You have to use an infinity loop. And you will have a special condition to break the loop.\n",
    "\n",
    "The following is an infinity loop."
   ]
  },
  {
   "cell_type": "code",
   "execution_count": 3,
   "metadata": {},
   "outputs": [],
   "source": [
    "# while True:\n",
    "# \tprint(True)\n"
   ]
  },
  {
   "cell_type": "markdown",
   "metadata": {},
   "source": [
    "Also, to create a random integer number, you will need to import the random module. In the random module, you can call the randint to generate a random integer. Besides, you can enter two parameters.\n",
    "\n",
    "The first parameter will be the smallest number and the last number is the highest number. Hence, every time you run the following code you will see a different number between 20 to 40."
   ]
  },
  {
   "cell_type": "code",
   "execution_count": 1,
   "metadata": {},
   "outputs": [
    {
     "name": "stdout",
     "output_type": "stream",
     "text": [
      "28\n"
     ]
    }
   ],
   "source": [
    "import random\n",
    "\n",
    "rand = random.randint(20, 40)\n",
    "print(rand)"
   ]
  },
  {
   "cell_type": "markdown",
   "metadata": {},
   "source": [
    "The above code will generate a random number between 20 and 40."
   ]
  },
  {
   "cell_type": "markdown",
   "metadata": {},
   "source": [
    "### Solution"
   ]
  },
  {
   "cell_type": "code",
   "execution_count": 9,
   "metadata": {},
   "outputs": [
    {
     "name": "stdout",
     "output_type": "stream",
     "text": [
      "To stop anytime, enter: q\n",
      "Your guess did not match\n",
      "The number was: 8\n",
      "Your guess did not match\n",
      "The number was: 4\n",
      "Your guess did not match\n",
      "The number was: 8\n",
      "Your guess did not match\n",
      "The number was: 0\n",
      "Your guess did not match\n",
      "The number was: 8\n",
      "Your guess did not match\n",
      "The number was: 10\n",
      "Your guess did not match\n",
      "The number was: 9\n",
      "Your guess did not match\n",
      "The number was: 4\n",
      "CONGRATS, you guessed it correctly\n",
      "Your new score: 10\n",
      "Game Over.\n"
     ]
    }
   ],
   "source": [
    "import random\n",
    "print('To stop anytime, enter: q')\n",
    "score = 0\n",
    "while True:\n",
    "  num = random.randint(0, 10)\n",
    "  guess = input(\"Guess a number between 0 to 10: \")\n",
    "  if guess == 'q':\n",
    "      print('Game Over.')\n",
    "      break\n",
    "  guess_num = int(guess)\n",
    "  if guess_num is num:\n",
    "      print('CONGRATS, you guessed it correctly')\n",
    "      score += 10\n",
    "      print('Your new score:', score)\n",
    "  else:\n",
    "      print('Your guess did not match')\n",
    "      print('The number was:', num)\n"
   ]
  }
 ],
 "metadata": {
  "kernelspec": {
   "display_name": "Python 3.10.5 64-bit",
   "language": "python",
   "name": "python3"
  },
  "language_info": {
   "codemirror_mode": {
    "name": "ipython",
    "version": 3
   },
   "file_extension": ".py",
   "mimetype": "text/x-python",
   "name": "python",
   "nbconvert_exporter": "python",
   "pygments_lexer": "ipython3",
   "version": "3.10.5"
  },
  "orig_nbformat": 4,
  "vscode": {
   "interpreter": {
    "hash": "afb734500600fd355917ca529030176ea0ca205570884b88f2f6f7d791fd3fbe"
   }
  }
 },
 "nbformat": 4,
 "nbformat_minor": 2
}
