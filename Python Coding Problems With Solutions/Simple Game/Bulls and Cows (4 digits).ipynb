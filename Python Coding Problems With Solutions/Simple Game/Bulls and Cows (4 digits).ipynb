{
 "cells": [
  {
   "cell_type": "markdown",
   "metadata": {},
   "source": [
    "# Bulls and Cows (4 digits)"
   ]
  },
  {
   "cell_type": "markdown",
   "metadata": {},
   "source": [
    "### The Problem"
   ]
  },
  {
   "cell_type": "markdown",
   "metadata": {},
   "source": [
    "Create a bulls and cows game for guessing a randomly generated 4 digits number."
   ]
  },
  {
   "cell_type": "markdown",
   "metadata": {},
   "source": [
    "#### Hints"
   ]
  },
  {
   "cell_type": "markdown",
   "metadata": {},
   "source": [
    "This one should be easier for you. Just make sure that the random number is four digits. Hence, it should be between 1000 and 9999.\n",
    "\n",
    "To calculate the bulls and cows,"
   ]
  },
  {
   "cell_type": "markdown",
   "metadata": {},
   "source": [
    "## Solution"
   ]
  },
  {
   "cell_type": "code",
   "execution_count": 4,
   "metadata": {},
   "outputs": [
    {
     "name": "stdout",
     "output_type": "stream",
     "text": [
      "Guess the number. It contains 4 digits.\n",
      "Bulls:  0\n",
      "Cows:  3\n",
      "Bulls:  0\n",
      "Cows:  1\n",
      "Bulls:  0\n",
      "Cows:  2\n",
      "Bulls:  2\n",
      "Cows:  1\n",
      "Bulls:  0\n",
      "Cows:  2\n",
      "Bulls:  0\n",
      "Cows:  2\n",
      "Bulls:  1\n",
      "Cows:  1\n",
      "You lost the game.\n"
     ]
    }
   ],
   "source": [
    "import random\n",
    "\n",
    "secret_number = str(random.randint(1000, 9999))\n",
    "print(\"Guess the number. It contains 4 digits.\")\n",
    "\n",
    "remaining_try = 7\n",
    "\n",
    "\n",
    "def get_bulls_cows(number, user_guess):\n",
    "   bulls_cows = [0, 0]  # cows, then bulls\n",
    "   for i in range(len(number)):\n",
    "       if user_guess[i] == number[i]:\n",
    "           bulls_cows[0] += 1\n",
    "       elif user_guess[i] in number:\n",
    "           bulls_cows[1] += 1\n",
    "   return bulls_cows\n",
    "\n",
    "\n",
    "while remaining_try > 0:\n",
    "   player_guess = input(\"Enter your guess: \")\n",
    "\n",
    "   if player_guess == secret_number:\n",
    "       print(\"Yay, you guessed it!\")\n",
    "       print(\"YOU WIN.\")\n",
    "       break\n",
    "   else:\n",
    "       bulls_cows = get_bulls_cows(secret_number, player_guess)\n",
    "\n",
    "       print(\"Bulls: \", bulls_cows[0])\n",
    "       print(\"Cows: \", bulls_cows[1])\n",
    "\n",
    "       remaining_try -= 1\n",
    "\n",
    "       if remaining_try < 1:\n",
    "           print(\"You lost the game.\")\n",
    "           break"
   ]
  }
 ],
 "metadata": {
  "kernelspec": {
   "display_name": "Python 3.10.5 64-bit",
   "language": "python",
   "name": "python3"
  },
  "language_info": {
   "codemirror_mode": {
    "name": "ipython",
    "version": 3
   },
   "file_extension": ".py",
   "mimetype": "text/x-python",
   "name": "python",
   "nbconvert_exporter": "python",
   "pygments_lexer": "ipython3",
   "version": "3.10.5"
  },
  "orig_nbformat": 4,
  "vscode": {
   "interpreter": {
    "hash": "afb734500600fd355917ca529030176ea0ca205570884b88f2f6f7d791fd3fbe"
   }
  }
 },
 "nbformat": 4,
 "nbformat_minor": 2
}
