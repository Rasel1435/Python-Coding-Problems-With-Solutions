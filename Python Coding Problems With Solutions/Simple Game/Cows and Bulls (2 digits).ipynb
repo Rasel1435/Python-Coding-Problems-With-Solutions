{
 "cells": [
  {
   "cell_type": "markdown",
   "metadata": {},
   "source": [
    "# Cows and Bulls (2 digits)"
   ]
  },
  {
   "cell_type": "markdown",
   "metadata": {},
   "source": [
    "### The Problem"
   ]
  },
  {
   "cell_type": "markdown",
   "metadata": {},
   "source": [
    "Create a Cows and Bulls game."
   ]
  },
  {
   "cell_type": "markdown",
   "metadata": {},
   "source": [
    "### Hints"
   ]
  },
  {
   "cell_type": "markdown",
   "metadata": {},
   "source": [
    "The Cows and Bulls is a number guessing game. In this game, the user guesses a number. Usually, the number will be a 4 digit number. However, here we will try with 2 digits number first.\n",
    "\n",
    "So, if the user guesses the number correctly, he/she will win. If they didn’t guess the exact number, then you will calculate the bulls and cows.\n",
    "\n",
    "Let’s say the number is: 8529\n",
    "\n",
    "And your guess is: 3428\n",
    "\n",
    "If you guess any position digit currently, you will get a bull. For your guess, you didn’t match the first, second or the last digit. However, you guess the 3rd digit correctly. Hence your bulls will be 1.\n",
    "\n",
    "On the other hand, if one or more digits of the secret number exist in your guess, you will get a cow.\n",
    "\n",
    "In summary, if you matched the digit with the position, you will get a bull. On the other hand, if you have the digit in a different place, it will cows.\n",
    "\n",
    "In the above guess, you have 8 in the 4th position. The 8 exists in the secret number in a different location, that's why you will get 1 cow.\n",
    "\n",
    "Hence your score will be: Bulls: 1 Cows: 1\n",
    "\n",
    "Another example- Secret number: 4271 player's try: 1234 Answer: 1 bull and 2 cows. (The bull is \"2\", the cows are \"4\" and \"1\".)"
   ]
  },
  {
   "cell_type": "code",
   "execution_count": 3,
   "metadata": {},
   "outputs": [
    {
     "name": "stdout",
     "output_type": "stream",
     "text": [
      "Guess the number. It contains 2 digits.\n",
      "Bulls:  1\n",
      "Cows:  0\n",
      "Bulls:  0\n",
      "Cows:  0\n",
      "Bulls:  1\n",
      "Cows:  0\n",
      "Bulls:  1\n",
      "Cows:  0\n",
      "Bulls:  0\n",
      "Cows:  0\n",
      "Bulls:  1\n",
      "Cows:  0\n",
      "Bulls:  0\n",
      "Cows:  1\n",
      "You lost the game.\n"
     ]
    }
   ],
   "source": [
    "import random\n",
    "\n",
    "secret_number = str(random.randint(10, 99))\n",
    "print(\"Guess the number. It contains 2 digits.\")\n",
    "\n",
    "remaining_try = 7\n",
    "\n",
    "while remaining_try > 0:\n",
    "   player_guess = input(\"Enter your guess: \")\n",
    "\n",
    "   if player_guess == secret_number:\n",
    "       print(\"Yay, you guessed it!\")\n",
    "       print(\"YOU WIN.\")\n",
    "       break\n",
    "   else:\n",
    "       bulls = 0\n",
    "       cows = 0\n",
    "\n",
    "       if player_guess[0] == secret_number[0]:\n",
    "           bulls += 1\n",
    "       if player_guess[1] == secret_number[1]:\n",
    "           bulls += 1\n",
    "       if player_guess[0] == secret_number[1]:\n",
    "           cows += 1\n",
    "       if player_guess[1] == secret_number[0]:\n",
    "           cows += 1\n",
    "\n",
    "       print(\"Bulls: \", bulls)\n",
    "       print(\"Cows: \", cows)\n",
    "\n",
    "       remaining_try -= 1\n",
    "\n",
    "       if remaining_try < 1:\n",
    "           print(\"You lost the game.\")\n",
    "           break\n"
   ]
  }
 ],
 "metadata": {
  "kernelspec": {
   "display_name": "Python 3.10.5 64-bit",
   "language": "python",
   "name": "python3"
  },
  "language_info": {
   "codemirror_mode": {
    "name": "ipython",
    "version": 3
   },
   "file_extension": ".py",
   "mimetype": "text/x-python",
   "name": "python",
   "nbconvert_exporter": "python",
   "pygments_lexer": "ipython3",
   "version": "3.10.5"
  },
  "orig_nbformat": 4,
  "vscode": {
   "interpreter": {
    "hash": "afb734500600fd355917ca529030176ea0ca205570884b88f2f6f7d791fd3fbe"
   }
  }
 },
 "nbformat": 4,
 "nbformat_minor": 2
}
