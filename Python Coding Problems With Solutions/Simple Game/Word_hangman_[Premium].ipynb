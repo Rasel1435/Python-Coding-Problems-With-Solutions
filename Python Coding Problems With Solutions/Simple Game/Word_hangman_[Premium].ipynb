{
 "cells": [
  {
   "cell_type": "markdown",
   "metadata": {},
   "source": [
    "#  Word hangman [Premium]"
   ]
  },
  {
   "cell_type": "markdown",
   "metadata": {},
   "source": [
    "### The problem"
   ]
  },
  {
   "cell_type": "markdown",
   "metadata": {},
   "source": [
    "Create a word hangman game."
   ]
  },
  {
   "cell_type": "markdown",
   "metadata": {},
   "source": [
    "### Hint"
   ]
  },
  {
   "cell_type": "markdown",
   "metadata": {},
   "source": [
    "The word hangman is a simple game. You will provide a word with the first letter. Rest of the letters will be blank. For example,\n",
    "\n",
    "s_ _ _ _ _ _ _ _ _\n",
    "\n",
    "The player has to guess the letters in the word. And the player will guess one letter at a time. If the letter exists in the word, it will appear to the player.\n",
    "\n",
    "If the letter doesn’t exist in the word, it will be counted as a wrong try.\n",
    "\n",
    "If the player exceeds the number of the wrong tries, the player will lose.\n",
    "\n",
    "Otherwise, the player will win."
   ]
  },
  {
   "cell_type": "markdown",
   "metadata": {},
   "source": [
    "## Solution"
   ]
  },
  {
   "cell_type": "code",
   "execution_count": 2,
   "metadata": {},
   "outputs": [
    {
     "name": "stdout",
     "output_type": "stream",
     "text": [
      "so far you got:  p__________\n",
      "Wrong Try Left:  4\n",
      "so far you got:  p__________\n",
      "so far you got:  p__________\n",
      "so far you got:  pr__r______\n",
      "so far you got:  pro_r______\n",
      "so far you got:  progr_____g\n",
      "so far you got:  progr_____g\n",
      "so far you got:  progra____g\n",
      "so far you got:  programm__g\n",
      "so far you got:  programm__g\n",
      "so far you got:  programmi_g\n",
      "so far you got:  programming\n",
      "YAY!!! You Win\n"
     ]
    }
   ],
   "source": [
    "import random\n",
    "\n",
    "\n",
    "def selected_a_word():\n",
    "    words = ['working', 'hard', 'makes', 'things',\n",
    "             'easier', 'congrats', 'programming']\n",
    "    word = words[random.randint(0, len(words)-1)]\n",
    "    return word\n",
    "\n",
    "\n",
    "def get_blank_word(word):\n",
    "    blank_word = word[0]\n",
    "    for i in range(1, len(word)):\n",
    "        blank_word += '_'\n",
    "    return blank_word\n",
    "\n",
    "\n",
    "def word_hangman(word, so_far, letter, try_left):\n",
    "    bad_try = True\n",
    "    for i in range(0, len(word)):\n",
    "        if word[i] == letter:\n",
    "            so_far = so_far[:i]+letter+so_far[i+1:]\n",
    "            bad_try = False\n",
    "    if bad_try is True:\n",
    "        try_left -= 1\n",
    "        print('Wrong Try Left: ', try_left)\n",
    "    print('so far you got: ', so_far)\n",
    "    if word == so_far:\n",
    "        print('YAY!!! You Win')\n",
    "    elif try_left == 0:\n",
    "        print('Opps!!! You Lost')\n",
    "    else:\n",
    "     next_letter = input('Enter your next letter: ')\n",
    "     word_hangman(word, so_far, next_letter, try_left)\n",
    "\n",
    "\n",
    "# play the game\n",
    "word = selected_a_word()\n",
    "clue_word = get_blank_word(word)\n",
    "word_hangman(word, clue_word, word[0], 5)"
   ]
  }
 ],
 "metadata": {
  "kernelspec": {
   "display_name": "Python 3.10.5 64-bit",
   "language": "python",
   "name": "python3"
  },
  "language_info": {
   "codemirror_mode": {
    "name": "ipython",
    "version": 3
   },
   "file_extension": ".py",
   "mimetype": "text/x-python",
   "name": "python",
   "nbconvert_exporter": "python",
   "pygments_lexer": "ipython3",
   "version": "3.10.5"
  },
  "orig_nbformat": 4,
  "vscode": {
   "interpreter": {
    "hash": "afb734500600fd355917ca529030176ea0ca205570884b88f2f6f7d791fd3fbe"
   }
  }
 },
 "nbformat": 4,
 "nbformat_minor": 2
}
