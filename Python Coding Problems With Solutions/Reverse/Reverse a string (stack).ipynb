{
 "cells": [
  {
   "cell_type": "markdown",
   "metadata": {},
   "source": [
    "# Reverse a string (stack)"
   ]
  },
  {
   "cell_type": "markdown",
   "metadata": {},
   "source": [
    "### The Problem"
   ]
  },
  {
   "cell_type": "markdown",
   "metadata": {},
   "source": [
    "Reverse a string using a stack."
   ]
  },
  {
   "cell_type": "markdown",
   "metadata": {},
   "source": [
    "## Solution"
   ]
  },
  {
   "cell_type": "code",
   "execution_count": 1,
   "metadata": {},
   "outputs": [
    {
     "name": "stdout",
     "output_type": "stream",
     "text": [
      "Reversed is:  dlroW olleH\n"
     ]
    }
   ],
   "source": [
    "def reverse_stack(str):\n",
    "  # Create an empty stack (list to use as stack)\n",
    "  stack = []\n",
    "  # Push all characters of string to stack\n",
    "  for char in str:\n",
    "      stack.append(char)\n",
    "  # Pop all characters of string\n",
    "  # and add it to the rev\n",
    "  rev = ''\n",
    "  while len(stack) > 0:\n",
    "      last = stack.pop()\n",
    "      rev = rev + last\n",
    "      # print(last, rev)\n",
    "\n",
    "  return rev\n",
    "\n",
    "\n",
    "usr_str = input('What is your string:')\n",
    "reverse = reverse_stack(usr_str)\n",
    "print('Reversed is: ', reverse)"
   ]
  }
 ],
 "metadata": {
  "kernelspec": {
   "display_name": "Python 3.10.5 64-bit",
   "language": "python",
   "name": "python3"
  },
  "language_info": {
   "codemirror_mode": {
    "name": "ipython",
    "version": 3
   },
   "file_extension": ".py",
   "mimetype": "text/x-python",
   "name": "python",
   "nbconvert_exporter": "python",
   "pygments_lexer": "ipython3",
   "version": "3.10.5"
  },
  "orig_nbformat": 4,
  "vscode": {
   "interpreter": {
    "hash": "afb734500600fd355917ca529030176ea0ca205570884b88f2f6f7d791fd3fbe"
   }
  }
 },
 "nbformat": 4,
 "nbformat_minor": 2
}
