{
 "cells": [
  {
   "cell_type": "markdown",
   "metadata": {},
   "source": [
    "# Least Common Multiple"
   ]
  },
  {
   "cell_type": "markdown",
   "metadata": {},
   "source": [
    "### The Problem"
   ]
  },
  {
   "cell_type": "markdown",
   "metadata": {},
   "source": [
    "For two numbers, calculate the least common multiple (LCM)."
   ]
  },
  {
   "cell_type": "markdown",
   "metadata": {},
   "source": [
    "### Hint"
   ]
  },
  {
   "cell_type": "markdown",
   "metadata": {},
   "source": [
    "The multiples of 4 and 5 are below:\n",
    "\n",
    "Multiple of 4: 4, 8, 12, 16, 20 , 24 28 ,32, 36, 40, 44 Multiple of 5: 5, 10, 15, 20, 25, 30, 35, 40, 45, 50, 55\n",
    "\n",
    "Now, what are the common multiples? The common number that exists in multiple of 4 and 5 are:\n",
    "\n",
    "Common multiples: 20, 40, 60, 80\n",
    "\n",
    "So, you can tell the smallest common multiple is 20. Hence, the least common multiple(LCM) of 4 and 5 is 20."
   ]
  },
  {
   "cell_type": "markdown",
   "metadata": {},
   "source": [
    "### The solution"
   ]
  },
  {
   "cell_type": "code",
   "execution_count": 1,
   "metadata": {},
   "outputs": [
    {
     "name": "stdout",
     "output_type": "stream",
     "text": [
      "LCM of 4 and 5 is: 20\n"
     ]
    }
   ],
   "source": [
    "def calculate_lcm(x, y):\n",
    "\tlcm = max(x, y)\n",
    "\twhile lcm % x != 0 or lcm % y != 0:\n",
    "\t\tlcm += 1\n",
    "\treturn lcm\n",
    "\n",
    "\n",
    "num1 = int(input(\"First number: \"))\n",
    "num2 = int(input(\"Second number: \"))\n",
    "lcm = calculate_lcm(num1, num2)\n",
    "\n",
    "print(f\"LCM of {num1} and {num2} is: {lcm}\")"
   ]
  }
 ],
 "metadata": {
  "kernelspec": {
   "display_name": "Python 3.10.5 64-bit",
   "language": "python",
   "name": "python3"
  },
  "language_info": {
   "codemirror_mode": {
    "name": "ipython",
    "version": 3
   },
   "file_extension": ".py",
   "mimetype": "text/x-python",
   "name": "python",
   "nbconvert_exporter": "python",
   "pygments_lexer": "ipython3",
   "version": "3.10.5"
  },
  "orig_nbformat": 4,
  "vscode": {
   "interpreter": {
    "hash": "afb734500600fd355917ca529030176ea0ca205570884b88f2f6f7d791fd3fbe"
   }
  }
 },
 "nbformat": 4,
 "nbformat_minor": 2
}
