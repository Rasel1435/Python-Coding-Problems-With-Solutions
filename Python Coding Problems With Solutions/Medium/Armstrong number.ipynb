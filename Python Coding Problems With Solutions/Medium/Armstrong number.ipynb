{
 "cells": [
  {
   "cell_type": "markdown",
   "metadata": {},
   "source": [
    "# Armstrong number."
   ]
  },
  {
   "cell_type": "markdown",
   "metadata": {},
   "source": [
    "### The problem"
   ]
  },
  {
   "cell_type": "markdown",
   "metadata": {},
   "source": [
    "Check whether a number is an Armstrong number."
   ]
  },
  {
   "cell_type": "markdown",
   "metadata": {},
   "source": [
    "### Armstrong number"
   ]
  },
  {
   "cell_type": "markdown",
   "metadata": {},
   "source": [
    "Armstrong is a special number.\n",
    "\n",
    "A number is an Armstrong Number or narcissistic number if it is equal to the sum of its own digits raised to the power of the number of digits.\n",
    "\n",
    "Think about the number 371. The total number of digits is 3. Now, for each digit, put the power of 3 and then add them. It will be"
   ]
  },
  {
   "cell_type": "code",
   "execution_count": 1,
   "metadata": {},
   "outputs": [],
   "source": [
    "# 33 + 73 + 13\n",
    "# = 27 + 343 + 1\n",
    "# = 371"
   ]
  },
  {
   "cell_type": "markdown",
   "metadata": {},
   "source": [
    "Hence, 371 is an Armstrong number.\n",
    "\n",
    "Similarly, 1634 is another Armstrong number, because the total number of digits is 4. Now, power each digit and sum them. You will get the Armstrong number."
   ]
  },
  {
   "cell_type": "code",
   "execution_count": 2,
   "metadata": {},
   "outputs": [],
   "source": [
    "# = 14 + 64 + 34 + 44\n",
    "# = 1 + 1296 + 81 + 256\n",
    "# = 1634"
   ]
  },
  {
   "cell_type": "markdown",
   "metadata": {},
   "source": [
    "### The solution"
   ]
  },
  {
   "cell_type": "code",
   "execution_count": 4,
   "metadata": {},
   "outputs": [
    {
     "name": "stdout",
     "output_type": "stream",
     "text": [
      "371 is an Armstrong number\n"
     ]
    }
   ],
   "source": [
    "def check_armstrong(num):\n",
    "\torder = len(str(num))\n",
    "\t\n",
    "\tsum = 0\n",
    "\t\n",
    "\t# use temp to find each digit. Then power it\n",
    "\ttemp = num\n",
    "\twhile temp > 0:\n",
    "\t\tdigit = temp % 10\n",
    "\t\tsum += digit ** order\n",
    "\t\ttemp //= 10\n",
    "\treturn num == sum\n",
    " \n",
    "num = int(input('Enter your number: '))\n",
    " \n",
    "if check_armstrong(num):\n",
    "\tprint(num,\"is an Armstrong number\")\n",
    "else:\n",
    "\tprint(num,\"is not an Armstrong number\")"
   ]
  }
 ],
 "metadata": {
  "kernelspec": {
   "display_name": "Python 3.10.5 64-bit",
   "language": "python",
   "name": "python3"
  },
  "language_info": {
   "codemirror_mode": {
    "name": "ipython",
    "version": 3
   },
   "file_extension": ".py",
   "mimetype": "text/x-python",
   "name": "python",
   "nbconvert_exporter": "python",
   "pygments_lexer": "ipython3",
   "version": "3.10.5"
  },
  "orig_nbformat": 4,
  "vscode": {
   "interpreter": {
    "hash": "afb734500600fd355917ca529030176ea0ca205570884b88f2f6f7d791fd3fbe"
   }
  }
 },
 "nbformat": 4,
 "nbformat_minor": 2
}
