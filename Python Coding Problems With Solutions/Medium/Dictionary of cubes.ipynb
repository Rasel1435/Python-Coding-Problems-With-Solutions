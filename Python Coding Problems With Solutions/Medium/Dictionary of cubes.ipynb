{
 "cells": [
  {
   "cell_type": "markdown",
   "metadata": {},
   "source": [
    "# Dictionary of cubes"
   ]
  },
  {
   "cell_type": "markdown",
   "metadata": {},
   "source": [
    "### The Problem"
   ]
  },
  {
   "cell_type": "markdown",
   "metadata": {},
   "source": [
    "With a given integral number n, write a program to calculate the sum of cubes."
   ]
  },
  {
   "cell_type": "markdown",
   "metadata": {},
   "source": [
    "#### Hints"
   ]
  },
  {
   "cell_type": "markdown",
   "metadata": {},
   "source": [
    "Cubes mean power of 3. Hence, the cube of 9 is 9**3.\n",
    "\n",
    "Here you have to calculate the cube of a series. If you want to calculate the cube up to the number n. The series will look like-\n",
    "\n",
    "1^3+2^3+3^3+4^3+ .. .. .. +n^3\n",
    "\n",
    "If you remembered the sum of the square, this one will be easier for you."
   ]
  },
  {
   "cell_type": "markdown",
   "metadata": {},
   "source": [
    "## Solution"
   ]
  },
  {
   "cell_type": "code",
   "execution_count": 3,
   "metadata": {},
   "outputs": [
    {
     "name": "stdout",
     "output_type": "stream",
     "text": [
      "User Input: 2\n",
      "Your sum of cube are: 9\n"
     ]
    }
   ],
   "source": [
    "def cube_sum(num):\n",
    "    sum = 0\n",
    "    for i in range(num + 1):\n",
    "        sum = sum + i ** 3\n",
    "    return sum\n",
    "\n",
    "user_num = int(input(\"Enter a Number: \"))\n",
    "print(f\"User Input: {user_num}\")\n",
    "result = cube_sum(user_num)\n",
    "print(f\"Your sum of cube are: {result}\")"
   ]
  },
  {
   "cell_type": "markdown",
   "metadata": {},
   "source": [
    "### Think Different"
   ]
  },
  {
   "cell_type": "markdown",
   "metadata": {},
   "source": [
    "There is an alternative solution to calculate the sum of cube of the n numbers. You can use"
   ]
  },
  {
   "cell_type": "markdown",
   "metadata": {},
   "source": [
    "(n*(n+1)/2)^2"
   ]
  },
  {
   "cell_type": "markdown",
   "metadata": {},
   "source": [
    "### Alternative Solution"
   ]
  },
  {
   "cell_type": "code",
   "execution_count": 2,
   "metadata": {},
   "outputs": [
    {
     "name": "stdout",
     "output_type": "stream",
     "text": [
      "User Input: 4\n",
      "Your sum of cubes are:  100.0\n"
     ]
    }
   ],
   "source": [
    "n = int(input('Enter a number: '))\n",
    "print(f\"User Input: {n}\")\n",
    "sum = (n*(n+1)/2)**2\n",
    "print('Your sum of cubes are: ', sum)"
   ]
  }
 ],
 "metadata": {
  "kernelspec": {
   "display_name": "Python 3.10.5 64-bit",
   "language": "python",
   "name": "python3"
  },
  "language_info": {
   "codemirror_mode": {
    "name": "ipython",
    "version": 3
   },
   "file_extension": ".py",
   "mimetype": "text/x-python",
   "name": "python",
   "nbconvert_exporter": "python",
   "pygments_lexer": "ipython3",
   "version": "3.10.5"
  },
  "orig_nbformat": 4,
  "vscode": {
   "interpreter": {
    "hash": "afb734500600fd355917ca529030176ea0ca205570884b88f2f6f7d791fd3fbe"
   }
  }
 },
 "nbformat": 4,
 "nbformat_minor": 2
}
