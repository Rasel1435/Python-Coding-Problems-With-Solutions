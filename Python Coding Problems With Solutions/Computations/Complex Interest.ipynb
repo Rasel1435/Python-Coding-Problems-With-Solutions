{
 "cells": [
  {
   "cell_type": "markdown",
   "metadata": {},
   "source": [
    "# Complex Interest"
   ]
  },
  {
   "cell_type": "markdown",
   "metadata": {},
   "source": [
    "### The Problem"
   ]
  },
  {
   "cell_type": "markdown",
   "metadata": {},
   "source": [
    "Take money borrowed, interest and duration as input. Then, compute the compound interest rate."
   ]
  },
  {
   "cell_type": "markdown",
   "metadata": {},
   "source": [
    "Compound interest formula is:\n",
    "A = P(1+r/100)t"
   ]
  },
  {
   "cell_type": "markdown",
   "metadata": {},
   "source": [
    "### Solution"
   ]
  },
  {
   "cell_type": "code",
   "execution_count": 1,
   "metadata": {},
   "outputs": [
    {
     "name": "stdout",
     "output_type": "stream",
     "text": [
      "Borrowed Money: 17000\n",
      "Interest Rate: 5.0\n",
      "Overall Duration: 3.0\n",
      "Interest Amount is: 19679.625000000004\n"
     ]
    }
   ],
   "source": [
    "def compound_interest(principal, rate, time):\n",
    "    interest = (principal * (1+rate/100) ** time)\n",
    "    return interest\n",
    "\n",
    "\n",
    "principal = int(input(\"Enter Money You Borrowed: \"))\n",
    "print(f\"Borrowed Money: {principal}\")\n",
    "interest_rate = float(input(\"Enter interest rate: \"))\n",
    "print(f\"Interest Rate: {interest_rate}\")\n",
    "time = float(input(\"Enter Overall Duration: \"))\n",
    "print(f\"Overall Duration: {time}\")\n",
    "\n",
    "total_due = compound_interest(principal, interest_rate, time)\n",
    "print(f\"Interest Amount is: {total_due}\")"
   ]
  }
 ],
 "metadata": {
  "kernelspec": {
   "display_name": "Python 3.10.5 64-bit",
   "language": "python",
   "name": "python3"
  },
  "language_info": {
   "codemirror_mode": {
    "name": "ipython",
    "version": 3
   },
   "file_extension": ".py",
   "mimetype": "text/x-python",
   "name": "python",
   "nbconvert_exporter": "python",
   "pygments_lexer": "ipython3",
   "version": "3.10.5"
  },
  "orig_nbformat": 4,
  "vscode": {
   "interpreter": {
    "hash": "afb734500600fd355917ca529030176ea0ca205570884b88f2f6f7d791fd3fbe"
   }
  }
 },
 "nbformat": 4,
 "nbformat_minor": 2
}
