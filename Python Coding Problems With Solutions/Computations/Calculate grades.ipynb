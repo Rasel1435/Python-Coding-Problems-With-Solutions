{
 "cells": [
  {
   "cell_type": "markdown",
   "metadata": {},
   "source": [
    "# Calculate grades"
   ]
  },
  {
   "cell_type": "markdown",
   "metadata": {},
   "source": [
    "### The problem"
   ]
  },
  {
   "cell_type": "markdown",
   "metadata": {},
   "source": [
    "Calculate grade of five subjects."
   ]
  },
  {
   "cell_type": "markdown",
   "metadata": {},
   "source": [
    "### The Solution"
   ]
  },
  {
   "cell_type": "code",
   "execution_count": 3,
   "metadata": {},
   "outputs": [
    {
     "name": "stdout",
     "output_type": "stream",
     "text": [
      "Enter your marks:\n",
      "Grade: A+\n"
     ]
    }
   ],
   "source": [
    "print('Enter your marks:')\n",
    "sub1 = int(input(\"First subject: \"))\n",
    "sub2 = int(input(\"Second subject: \"))\n",
    "sub3 = int(input(\"Third subject: \"))\n",
    "sub4 = int(input(\"Fourth subject: \"))\n",
    "sub5 = int(input(\"Fifth subject: \"))\n",
    "\n",
    "avg = (sub1+sub2+sub3+sub4+sub5)/5\n",
    "\n",
    "if avg >= 90:\n",
    "   print(\"Grade: A+\")\n",
    "elif avg >= 80:\n",
    "   print(\"Grade: B\")\n",
    "elif avg >= 70:\n",
    "   print(\"Grade: C\")\n",
    "elif avg >= 60:\n",
    "   print(\"Grade: D\")\n",
    "else:\n",
    "   print(\"Grade: F\")"
   ]
  }
 ],
 "metadata": {
  "kernelspec": {
   "display_name": "Python 3.10.5 64-bit",
   "language": "python",
   "name": "python3"
  },
  "language_info": {
   "codemirror_mode": {
    "name": "ipython",
    "version": 3
   },
   "file_extension": ".py",
   "mimetype": "text/x-python",
   "name": "python",
   "nbconvert_exporter": "python",
   "pygments_lexer": "ipython3",
   "version": "3.10.5"
  },
  "orig_nbformat": 4,
  "vscode": {
   "interpreter": {
    "hash": "afb734500600fd355917ca529030176ea0ca205570884b88f2f6f7d791fd3fbe"
   }
  }
 },
 "nbformat": 4,
 "nbformat_minor": 2
}
