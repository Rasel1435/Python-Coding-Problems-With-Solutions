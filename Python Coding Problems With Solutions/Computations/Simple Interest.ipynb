{
 "cells": [
  {
   "cell_type": "markdown",
   "metadata": {},
   "source": [
    "# Simple Interest"
   ]
  },
  {
   "cell_type": "markdown",
   "metadata": {},
   "source": [
    "### The Problem"
   ]
  },
  {
   "cell_type": "markdown",
   "metadata": {},
   "source": [
    "You borrowed $5000 for 2 years with 2% interest per year. Calculate the simple interest to know how much you have to pay?"
   ]
  },
  {
   "cell_type": "code",
   "execution_count": 6,
   "metadata": {},
   "outputs": [
    {
     "name": "stdout",
     "output_type": "stream",
     "text": [
      "Borrowed Amount: 15000\n",
      "Interest Rate: 2.0\n",
      "Time Period: 5.0\n",
      "After this 5.0 years you have to pay: 1500.0\n"
     ]
    }
   ],
   "source": [
    "amount_of_borrowed = int(input(\"Enter Money you borrowed: \"))\n",
    "print(f\"Borrowed Amount: {amount_of_borrowed}\")\n",
    "interest_rate = float(input(\"Interest Rate: \"))\n",
    "print(f\"Interest Rate: {interest_rate}\")\n",
    "time = float(input(\"Overall Duration: \"))\n",
    "print(f\"Time Period: {time}\")\n",
    "\n",
    "# Calculates simple interest\n",
    "simple_interest = amount_of_borrowed * (interest_rate/100) * time\n",
    "print(f\"After this {time} years you have to pay: {simple_interest}\")"
   ]
  }
 ],
 "metadata": {
  "kernelspec": {
   "display_name": "Python 3.10.5 64-bit",
   "language": "python",
   "name": "python3"
  },
  "language_info": {
   "codemirror_mode": {
    "name": "ipython",
    "version": 3
   },
   "file_extension": ".py",
   "mimetype": "text/x-python",
   "name": "python",
   "nbconvert_exporter": "python",
   "pygments_lexer": "ipython3",
   "version": "3.10.5"
  },
  "orig_nbformat": 4,
  "vscode": {
   "interpreter": {
    "hash": "afb734500600fd355917ca529030176ea0ca205570884b88f2f6f7d791fd3fbe"
   }
  }
 },
 "nbformat": 4,
 "nbformat_minor": 2
}
