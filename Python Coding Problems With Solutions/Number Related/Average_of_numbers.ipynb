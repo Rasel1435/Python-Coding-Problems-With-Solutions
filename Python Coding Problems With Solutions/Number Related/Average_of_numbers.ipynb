{
 "cells": [
  {
   "cell_type": "markdown",
   "metadata": {},
   "source": [
    "# Average of numbers"
   ]
  },
  {
   "cell_type": "markdown",
   "metadata": {},
   "source": [
    "### The problem"
   ]
  },
  {
   "cell_type": "markdown",
   "metadata": {},
   "source": [
    "Take numbers from a user and show the average of the numbers the user entered."
   ]
  },
  {
   "cell_type": "markdown",
   "metadata": {},
   "source": [
    "### Solution"
   ]
  },
  {
   "cell_type": "code",
   "execution_count": 12,
   "metadata": {},
   "outputs": [
    {
     "name": "stdout",
     "output_type": "stream",
     "text": [
      "33\n",
      "800\n",
      "630\n",
      "740\n",
      "66\n",
      "Average of elements you entred: 453.8\n"
     ]
    }
   ],
   "source": [
    "len = int(input(\" Enter how many numbers do you want add: \"))\n",
    "nums = []\n",
    "for i in range(0, len):\n",
    "    element = int(input(\"Enter element: \"))\n",
    "    nums.append(element)\n",
    "    print(element)\n",
    "\n",
    "total = sum(nums)\n",
    "avg = total/len\n",
    "print(f\"Average of elements you entred: {round(avg, 2)}\")"
   ]
  },
  {
   "cell_type": "markdown",
   "metadata": {},
   "source": [
    "### Another Solution"
   ]
  },
  {
   "cell_type": "code",
   "execution_count": 3,
   "metadata": {},
   "outputs": [
    {
     "name": "stdout",
     "output_type": "stream",
     "text": [
      "78\n",
      "55\n",
      "99\n",
      "Average of elements you entred: 77.33\n"
     ]
    }
   ],
   "source": [
    "len=int(input(\"How many numbers you want to enter: \"))\n",
    " \n",
    "total = 0\n",
    " \n",
    "for i in range(0,len):\n",
    "   element = int(input(\"Enter element: \"))\n",
    "   total += element\n",
    "   print(element)\n",
    " \n",
    "avg = total/len\n",
    "print(f\"Average of elements you entred: {round(avg, 2)}\")"
   ]
  }
 ],
 "metadata": {
  "kernelspec": {
   "display_name": "Python 3.10.5 64-bit",
   "language": "python",
   "name": "python3"
  },
  "language_info": {
   "codemirror_mode": {
    "name": "ipython",
    "version": 3
   },
   "file_extension": ".py",
   "mimetype": "text/x-python",
   "name": "python",
   "nbconvert_exporter": "python",
   "pygments_lexer": "ipython3",
   "version": "3.10.5"
  },
  "orig_nbformat": 4,
  "vscode": {
   "interpreter": {
    "hash": "afb734500600fd355917ca529030176ea0ca205570884b88f2f6f7d791fd3fbe"
   }
  }
 },
 "nbformat": 4,
 "nbformat_minor": 2
}
