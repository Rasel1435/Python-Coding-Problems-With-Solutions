{
 "cells": [
  {
   "cell_type": "markdown",
   "metadata": {},
   "source": [
    "# Max of Four"
   ]
  },
  {
   "cell_type": "markdown",
   "metadata": {},
   "source": [
    "### The problem"
   ]
  },
  {
   "cell_type": "markdown",
   "metadata": {},
   "source": [
    "Find the max number of four numbers."
   ]
  },
  {
   "cell_type": "markdown",
   "metadata": {},
   "source": [
    "### Solution"
   ]
  },
  {
   "cell_type": "code",
   "execution_count": 1,
   "metadata": {},
   "outputs": [
    {
     "name": "stdout",
     "output_type": "stream",
     "text": [
      "Largest number between [22, 55, 66, 17] is: 66\n"
     ]
    }
   ],
   "source": [
    "num1 = int(input(\"Enter Your First Number: \"))\n",
    "num2 = int(input(\"Enter Your Second Number: \"))\n",
    "num3 = int(input(\"Enter Your Third Number: \"))\n",
    "num4 = int(input(\"Enter Your Forth Number: \"))\n",
    "\n",
    "if (num1 >= num2) and (num1 >= num3) and (num1 >= num4):\n",
    "    Largest = num1\n",
    "elif (num2 >= num1) and (num2 >= num3) and (num2 >= num4):\n",
    "    Largest = num2\n",
    "elif (num3 >= num1) and (num3 >= num2) and (num3 >= num4):\n",
    "    Largest = num3 \n",
    "else:\n",
    "    Largest = num4\n",
    "\n",
    "print(f\"Largest number between [{num1}, {num2}, {num3}, {num4}] is: {Largest}\")"
   ]
  },
  {
   "cell_type": "markdown",
   "metadata": {},
   "source": [
    "### Shortcut"
   ]
  },
  {
   "cell_type": "code",
   "execution_count": 2,
   "metadata": {},
   "outputs": [
    {
     "name": "stdout",
     "output_type": "stream",
     "text": [
      "Largest number between [17, 22, 12, 10] is: 22\n"
     ]
    }
   ],
   "source": [
    "num1 = int(input(\"Enter First number: \"))\n",
    "num2 = int(input(\"Enter Second number: \"))\n",
    "num3 = int(input(\"Enter Your Third Number: \"))\n",
    "num4 = int(input(\"Enter Your Forth Number: \"))\n",
    "Largest = max(num1, num2, num3, num4)\n",
    "print(f\"Largest number between [{num1}, {num2}, {num3}, {num4}] is: {Largest}\")"
   ]
  }
 ],
 "metadata": {
  "kernelspec": {
   "display_name": "Python 3.10.5 64-bit",
   "language": "python",
   "name": "python3"
  },
  "language_info": {
   "codemirror_mode": {
    "name": "ipython",
    "version": 3
   },
   "file_extension": ".py",
   "mimetype": "text/x-python",
   "name": "python",
   "nbconvert_exporter": "python",
   "pygments_lexer": "ipython3",
   "version": "3.10.5"
  },
  "orig_nbformat": 4,
  "vscode": {
   "interpreter": {
    "hash": "afb734500600fd355917ca529030176ea0ca205570884b88f2f6f7d791fd3fbe"
   }
  }
 },
 "nbformat": 4,
 "nbformat_minor": 2
}
