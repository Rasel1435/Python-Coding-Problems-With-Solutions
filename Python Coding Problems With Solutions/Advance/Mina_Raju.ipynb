{
 "cells": [
  {
   "cell_type": "code",
   "execution_count": 1,
   "metadata": {},
   "outputs": [],
   "source": [
    "# Mina and Raju are playing a game. They will provide a list which contains a name and a number to each\n",
    "\n",
    "# other. They have to add the number to the ASCII values of the names character. Then they have to check\n",
    "\n",
    "# that if any of the new added number is prime or not. If for any character of the name the added number is\n",
    "\n",
    "# prime then the name will be considered as prime name. Can you help Mina and Raju to find the prime\n",
    "\n",
    "# name?\n",
    "\n",
    "# Example:\n",
    "\n",
    "# Suppose the list contains two names Mina and Raju. The list will be as following,\n",
    "\n",
    "# Mina 20\n",
    "\n",
    "# Raju 34\n",
    "\n",
    "# For the first name ASCII values are: 77 105 110 97\n",
    "\n",
    "# After addition the values will be: 97 125 130 117\n",
    "\n",
    "# As 97 is prime number so Mina is a Prime Name.\n",
    "\n",
    " \n",
    "\n",
    "# Input\n",
    "# First line of input will be the size of the list L(L<100). Next L line contains S(name) and\n",
    "\n",
    "# N(number) pairs separated by space. Name is a string with less than 20 characters. The number will be less than 10000.\n",
    "\n",
    "# Output\n",
    "# For every name print “YES” if it is prime name, else print “NO”\n",
    "\n",
    "# Example\n",
    "# Input:\n",
    "# 2\n",
    "# Mina 20\n",
    "# Shimul 60\n",
    "\n",
    "# Output:\n",
    "# YES\n",
    "# NO"
   ]
  },
  {
   "cell_type": "code",
   "execution_count": 1,
   "metadata": {},
   "outputs": [
    {
     "name": "stdout",
     "output_type": "stream",
     "text": [
      "NO\n"
     ]
    }
   ],
   "source": [
    "def is_prime(num):\n",
    "  for i in range(2, num):\n",
    "      if (num % i) == 0:\n",
    "          return False\n",
    "  return True\n",
    "\n",
    "\n",
    "num = str(input(\"Enter upper limit: \"))\n",
    "name = num.split()[0]\n",
    "name2 = int(num.split()[1])\n",
    "if len(name) < 20 and name2 < 10000:\n",
    "    for w in name:\n",
    "        aw = ord(w)+name2\n",
    "        #print(aw)\n",
    "\n",
    "        if is_prime(aw) == True:\n",
    "            print(\"YES\")\n",
    "        else:\n",
    "            print(\"NO\")\n",
    "        break"
   ]
  }
 ],
 "metadata": {
  "kernelspec": {
   "display_name": "Python 3.10.5 64-bit",
   "language": "python",
   "name": "python3"
  },
  "language_info": {
   "codemirror_mode": {
    "name": "ipython",
    "version": 3
   },
   "file_extension": ".py",
   "mimetype": "text/x-python",
   "name": "python",
   "nbconvert_exporter": "python",
   "pygments_lexer": "ipython3",
   "version": "3.10.5"
  },
  "orig_nbformat": 4,
  "vscode": {
   "interpreter": {
    "hash": "afb734500600fd355917ca529030176ea0ca205570884b88f2f6f7d791fd3fbe"
   }
  }
 },
 "nbformat": 4,
 "nbformat_minor": 2
}
