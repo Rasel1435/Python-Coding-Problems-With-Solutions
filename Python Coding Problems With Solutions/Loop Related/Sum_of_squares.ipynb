{
 "cells": [
  {
   "cell_type": "markdown",
   "metadata": {},
   "source": [
    "# Sum of squares"
   ]
  },
  {
   "cell_type": "markdown",
   "metadata": {},
   "source": [
    "### The problem"
   ]
  },
  {
   "cell_type": "markdown",
   "metadata": {},
   "source": [
    "Take a number as input. Then get the sum of the numbers. If the number is n. Then get"
   ]
  },
  {
   "cell_type": "markdown",
   "metadata": {},
   "source": [
    "0^2+1^2+2^2+3^2+4^2+.............+n^2"
   ]
  },
  {
   "cell_type": "markdown",
   "metadata": {},
   "source": [
    "### Solution"
   ]
  },
  {
   "cell_type": "code",
   "execution_count": 6,
   "metadata": {},
   "outputs": [
    {
     "name": "stdout",
     "output_type": "stream",
     "text": [
      "sum of square numbers is  55\n"
     ]
    }
   ],
   "source": [
    "def square_sum(num):\n",
    "    sum = 0\n",
    "    for i in range(num + 1):\n",
    "        square = (i ** 2)\n",
    "        sum = sum + square\n",
    "    return sum\n",
    "\n",
    "num = int(input(\"Enter a Number: \"))\n",
    "sum = square_sum(num)\n",
    "print('sum of square numbers is ', sum)"
   ]
  },
  {
   "cell_type": "markdown",
   "metadata": {},
   "source": [
    "### Shortcut"
   ]
  },
  {
   "cell_type": "code",
   "execution_count": 7,
   "metadata": {},
   "outputs": [
    {
     "name": "stdout",
     "output_type": "stream",
     "text": [
      "Your sum of Square is:  5.0\n"
     ]
    }
   ],
   "source": [
    "def sum_of_square2(n):\n",
    "    sum = n*(n+1)*(2*n+1)/6\n",
    "    return sum\n",
    "\n",
    "\n",
    "num = int(input('Enter a number: '))\n",
    "sum = sum_of_square2(num)\n",
    "print('Your sum of Square is: ', sum)"
   ]
  }
 ],
 "metadata": {
  "kernelspec": {
   "display_name": "Python 3.10.5 64-bit",
   "language": "python",
   "name": "python3"
  },
  "language_info": {
   "codemirror_mode": {
    "name": "ipython",
    "version": 3
   },
   "file_extension": ".py",
   "mimetype": "text/x-python",
   "name": "python",
   "nbconvert_exporter": "python",
   "pygments_lexer": "ipython3",
   "version": "3.10.5"
  },
  "orig_nbformat": 4,
  "vscode": {
   "interpreter": {
    "hash": "afb734500600fd355917ca529030176ea0ca205570884b88f2f6f7d791fd3fbe"
   }
  }
 },
 "nbformat": 4,
 "nbformat_minor": 2
}
