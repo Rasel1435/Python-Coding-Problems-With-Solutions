{
 "cells": [
  {
   "cell_type": "markdown",
   "metadata": {},
   "source": [
    "# Permutation [Premium]"
   ]
  },
  {
   "cell_type": "markdown",
   "metadata": {},
   "source": [
    "## The Problem"
   ]
  },
  {
   "cell_type": "markdown",
   "metadata": {},
   "source": [
    "Find all permutation of a given list."
   ]
  },
  {
   "cell_type": "markdown",
   "metadata": {},
   "source": [
    "### Hints"
   ]
  },
  {
   "cell_type": "markdown",
   "metadata": {},
   "source": [
    "In mathematics, the permutation is the way to find all possible order of elements\n",
    "\n",
    "For example, you have 1,2,3. Now all possible order is 1,2,3 1,3,2 2,1,3 2,3,1 3,1,2 3,2,1\n",
    "\n",
    "So, the permutation is a way to find all the possible order or sequence of elements."
   ]
  },
  {
   "cell_type": "code",
   "execution_count": 5,
   "metadata": {},
   "outputs": [
    {
     "name": "stdout",
     "output_type": "stream",
     "text": [
      "[2, 3, 4, 6, 16, 7, 8]\n",
      "-----------------------\n"
     ]
    }
   ],
   "source": [
    "lst = [2, 3, 4, 6, 11, 16, 7, 8]\n",
    "before = lst[:4]\n",
    "after = lst[4+1:]\n",
    "excluding = before + after\n",
    "print(excluding)\n",
    "print('-----------------------')\n",
    "# print(lst[:4] + lst[4+1])"
   ]
  },
  {
   "cell_type": "markdown",
   "metadata": {},
   "source": [
    "## Solution"
   ]
  },
  {
   "cell_type": "code",
   "execution_count": 6,
   "metadata": {},
   "outputs": [
    {
     "name": "stdout",
     "output_type": "stream",
     "text": [
      "[1, 2, 3]\n",
      "[1, 3, 2]\n",
      "[2, 1, 3]\n",
      "[2, 3, 1]\n",
      "[3, 1, 2]\n",
      "[3, 2, 1]\n"
     ]
    }
   ],
   "source": [
    "def get_permutation(lst):\n",
    "   # For an empty list, there is no permutation\n",
    "   if len(lst) == 0:\n",
    "       return []\n",
    "   # list with one element will have only one\n",
    "   # permutation\n",
    "   if len(lst) == 1:\n",
    "       return [lst]\n",
    "  # Create an empty list to store permutation\n",
    "   perms = []\n",
    "   for i in range(len(lst)):\n",
    "       # Extract current elemnt from the list.\n",
    "       current = lst[i]\n",
    "       # Recursively call permutation for the\n",
    "       # remaining list\n",
    "       rem_list = lst[:i] + lst[i+1:]\n",
    "       rem_perm = get_permutation(rem_list)\n",
    "       # Generate permutations by adding first element\n",
    "       for p in rem_perm:\n",
    "           perms.append([current] + p)\n",
    "   return perms\n",
    "\n",
    "\n",
    "# now test the function\n",
    "data = [1, 2, 3]\n",
    "for perm in get_permutation(data):\n",
    "   print(perm)"
   ]
  }
 ],
 "metadata": {
  "kernelspec": {
   "display_name": "Python 3.10.5 64-bit",
   "language": "python",
   "name": "python3"
  },
  "language_info": {
   "codemirror_mode": {
    "name": "ipython",
    "version": 3
   },
   "file_extension": ".py",
   "mimetype": "text/x-python",
   "name": "python",
   "nbconvert_exporter": "python",
   "pygments_lexer": "ipython3",
   "version": "3.10.5"
  },
  "orig_nbformat": 4,
  "vscode": {
   "interpreter": {
    "hash": "afb734500600fd355917ca529030176ea0ca205570884b88f2f6f7d791fd3fbe"
   }
  }
 },
 "nbformat": 4,
 "nbformat_minor": 2
}
