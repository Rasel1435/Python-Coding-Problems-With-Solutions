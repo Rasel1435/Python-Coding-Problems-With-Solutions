{
 "cells": [
  {
   "cell_type": "markdown",
   "metadata": {},
   "source": [
    "# Password with Requirements [Premium]"
   ]
  },
  {
   "cell_type": "markdown",
   "metadata": {},
   "source": [
    "### The Problem"
   ]
  },
  {
   "cell_type": "markdown",
   "metadata": {},
   "source": [
    "Generate a password that has a minimum of one uppercase, one lowercase, one digit, and one special character"
   ]
  },
  {
   "cell_type": "markdown",
   "metadata": {},
   "source": [
    "## Hint"
   ]
  },
  {
   "cell_type": "markdown",
   "metadata": {},
   "source": [
    "This one is easier. The string module has two more things to get the uppercase and lower case characters..."
   ]
  },
  {
   "cell_type": "code",
   "execution_count": 4,
   "metadata": {},
   "outputs": [
    {
     "name": "stdout",
     "output_type": "stream",
     "text": [
      "All letters\n",
      "abcdefghijklmnopqrstuvwxyzABCDEFGHIJKLMNOPQRSTUVWXYZ\n",
      "Al lowercase characters\n",
      "abcdefghijklmnopqrstuvwxyz\n",
      "All uppercase characters\n",
      "ABCDEFGHIJKLMNOPQRSTUVWXYZ\n",
      "all digits\n",
      "0123456789\n",
      "all special characters\n",
      "!\"#$%&'()*+,-./:;<=>?@[\\]^_`{|}~\n"
     ]
    }
   ],
   "source": [
    "import string\n",
    "print('All letters')\n",
    "print(string.ascii_letters)\n",
    "print('Al lowercase characters')\n",
    "print(string.ascii_lowercase)\n",
    "print('All uppercase characters')\n",
    "print(string.ascii_uppercase)\n",
    "print('all digits')\n",
    "print(string.digits)\n",
    "print('all special characters')\n",
    "print(string.punctuation)"
   ]
  },
  {
   "cell_type": "markdown",
   "metadata": {},
   "source": [
    "# Solution"
   ]
  },
  {
   "cell_type": "code",
   "execution_count": 9,
   "metadata": {},
   "outputs": [
    {
     "name": "stdout",
     "output_type": "stream",
     "text": [
      "First Random Password is: bK1|,XN&DA\n",
      "Second Random Password is: dQ6{<aQnM'\n",
      "Third Random Password is: lS8/oJ<~..\n"
     ]
    }
   ],
   "source": [
    "import random\n",
    "import string\n",
    "\n",
    "\n",
    "def randomPassword(size):\n",
    "\tall_chars = string.ascii_letters + string.digits + string.punctuation\n",
    "\tpassword = \"\"\n",
    "\tpassword += random.choice(string.ascii_lowercase)\n",
    "\tpassword += random.choice(string.ascii_uppercase)\n",
    "\tpassword += random.choice(string.digits)\n",
    "\tpassword += random.choice(string.punctuation)\n",
    "\n",
    "\tfor i in range(size-4):\n",
    "\t\tpassword += random.choice(all_chars)\n",
    "\treturn password\n",
    "\n",
    "\n",
    "pass_len = int(input(\"What would be the password length? \"))\n",
    "print(\"First Random Password is:\", randomPassword(pass_len))\n",
    "print(\"Second Random Password is:\", randomPassword(pass_len))\n",
    "print(\"Third Random Password is:\", randomPassword(pass_len))\n"
   ]
  }
 ],
 "metadata": {
  "kernelspec": {
   "display_name": "Python 3.10.5 64-bit",
   "language": "python",
   "name": "python3"
  },
  "language_info": {
   "codemirror_mode": {
    "name": "ipython",
    "version": 3
   },
   "file_extension": ".py",
   "mimetype": "text/x-python",
   "name": "python",
   "nbconvert_exporter": "python",
   "pygments_lexer": "ipython3",
   "version": "3.10.5"
  },
  "orig_nbformat": 4,
  "vscode": {
   "interpreter": {
    "hash": "afb734500600fd355917ca529030176ea0ca205570884b88f2f6f7d791fd3fbe"
   }
  }
 },
 "nbformat": 4,
 "nbformat_minor": 2
}
