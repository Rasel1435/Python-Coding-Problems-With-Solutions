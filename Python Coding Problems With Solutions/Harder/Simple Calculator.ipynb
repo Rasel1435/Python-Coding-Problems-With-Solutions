{
 "cells": [
  {
   "cell_type": "markdown",
   "metadata": {},
   "source": [
    "# Simple Calculator"
   ]
  },
  {
   "cell_type": "markdown",
   "metadata": {},
   "source": [
    "## The task"
   ]
  },
  {
   "cell_type": "markdown",
   "metadata": {},
   "source": [
    "Create a simple calculator. That will be able to take user input of two numbers and the operation the user wants to perform."
   ]
  },
  {
   "cell_type": "markdown",
   "metadata": {},
   "source": [
    "## Solution strategy"
   ]
  },
  {
   "cell_type": "markdown",
   "metadata": {},
   "source": [
    "Create a bunch of functions to perform add, subtract, multiply, division or modulo.\n",
    "\n",
    "Then take two numbers from the user and the operation he/she wants to perform. Either +,-,*,/ or %.\n",
    "\n",
    "Then call the appropriate function based on the operation.\n",
    "\n",
    "Think for a few minutes and try it yourself first."
   ]
  },
  {
   "cell_type": "markdown",
   "metadata": {},
   "source": [
    "# The solution"
   ]
  },
  {
   "cell_type": "code",
   "execution_count": 5,
   "metadata": {},
   "outputs": [
    {
     "name": "stdout",
     "output_type": "stream",
     "text": [
      "52 + 52 = 104\n"
     ]
    }
   ],
   "source": [
    "def add(num1, num2):\n",
    " return num1 + num2\n",
    "\n",
    "\n",
    "def subtract(num1, num2):\n",
    " return num1 - num2\n",
    "\n",
    "\n",
    "def multiply(num1, num2):\n",
    " return num1 * num2\n",
    "\n",
    "\n",
    "def divide(num1, num2):\n",
    " return num1 / num2\n",
    "\n",
    "\n",
    "def modulo(num1, num2):\n",
    " return num1 % num2\n",
    "\n",
    "\n",
    "# Take input from the user\n",
    "num1 = int(input(\"Enter first number: \"))\n",
    "operation = input(\"What you want to do(+, -, *, /, %):\")\n",
    "num2 = int(input(\"Enter second number: \"))\n",
    "\n",
    "result = 0\n",
    "if operation == '+':\n",
    " result = add(num1, num2)\n",
    "elif operation == '-':\n",
    " result = subtract(num1, num2)\n",
    "elif operation == '*':\n",
    " result = multiply(num1, num2)\n",
    "elif operation == '/':\n",
    " result = divide(num1, num2)\n",
    "elif operation == '%':\n",
    " result = modulo(num1, num2)\n",
    "else:\n",
    " print(\"Please enter: +, -, *, / or %\")\n",
    "\n",
    "print(num1, operation, num2, '=', result)"
   ]
  }
 ],
 "metadata": {
  "kernelspec": {
   "display_name": "Python 3.10.5 64-bit",
   "language": "python",
   "name": "python3"
  },
  "language_info": {
   "codemirror_mode": {
    "name": "ipython",
    "version": 3
   },
   "file_extension": ".py",
   "mimetype": "text/x-python",
   "name": "python",
   "nbconvert_exporter": "python",
   "pygments_lexer": "ipython3",
   "version": "3.10.5"
  },
  "orig_nbformat": 4,
  "vscode": {
   "interpreter": {
    "hash": "afb734500600fd355917ca529030176ea0ca205570884b88f2f6f7d791fd3fbe"
   }
  }
 },
 "nbformat": 4,
 "nbformat_minor": 2
}
